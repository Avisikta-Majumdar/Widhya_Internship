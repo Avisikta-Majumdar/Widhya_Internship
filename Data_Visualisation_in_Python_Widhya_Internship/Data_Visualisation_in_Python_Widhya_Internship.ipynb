{
 "cells": [
  {
   "cell_type": "code",
   "execution_count": 7,
   "metadata": {},
   "outputs": [],
   "source": [
    "import pandas as pd"
   ]
  },
  {
   "cell_type": "code",
   "execution_count": 8,
   "metadata": {},
   "outputs": [],
   "source": [
    "df = pd.read_csv('Data_Visualisation.csv', sep=',' , encoding='latin-1')"
   ]
  },
  {
   "cell_type": "code",
   "execution_count": 9,
   "metadata": {},
   "outputs": [
    {
     "data": {
      "text/html": [
       "<div>\n",
       "<style scoped>\n",
       "    .dataframe tbody tr th:only-of-type {\n",
       "        vertical-align: middle;\n",
       "    }\n",
       "\n",
       "    .dataframe tbody tr th {\n",
       "        vertical-align: top;\n",
       "    }\n",
       "\n",
       "    .dataframe thead th {\n",
       "        text-align: right;\n",
       "    }\n",
       "</style>\n",
       "<table border=\"1\" class=\"dataframe\">\n",
       "  <thead>\n",
       "    <tr style=\"text-align: right;\">\n",
       "      <th></th>\n",
       "      <th>College</th>\n",
       "      <th>Flutter (skill out of 5)</th>\n",
       "      <th>Flask (skill out of 5)</th>\n",
       "      <th>Firebase (skill out of 5)</th>\n",
       "      <th>GCP (skill out of 5)</th>\n",
       "      <th>AWS (skill out of 5)</th>\n",
       "      <th>Predictive Modelling (skill out of 5)</th>\n",
       "      <th>EDA (skill out of 5)</th>\n",
       "      <th>NLP (skill out of 5)</th>\n",
       "    </tr>\n",
       "  </thead>\n",
       "  <tbody>\n",
       "    <tr>\n",
       "      <th>0</th>\n",
       "      <td>JDIET</td>\n",
       "      <td>2.0</td>\n",
       "      <td>4.0</td>\n",
       "      <td>4.0</td>\n",
       "      <td>1.0</td>\n",
       "      <td>1.0</td>\n",
       "      <td>1.0</td>\n",
       "      <td>1.0</td>\n",
       "      <td>4.0</td>\n",
       "    </tr>\n",
       "    <tr>\n",
       "      <th>1</th>\n",
       "      <td>Indian Institute of Information Technology Des...</td>\n",
       "      <td>4.0</td>\n",
       "      <td>1.0</td>\n",
       "      <td>1.0</td>\n",
       "      <td>3.0</td>\n",
       "      <td>1.0</td>\n",
       "      <td>4.0</td>\n",
       "      <td>5.0</td>\n",
       "      <td>4.0</td>\n",
       "    </tr>\n",
       "    <tr>\n",
       "      <th>2</th>\n",
       "      <td>Manipal Institute of technology</td>\n",
       "      <td>2.0</td>\n",
       "      <td>2.0</td>\n",
       "      <td>2.0</td>\n",
       "      <td>1.0</td>\n",
       "      <td>1.0</td>\n",
       "      <td>2.0</td>\n",
       "      <td>2.0</td>\n",
       "      <td>2.0</td>\n",
       "    </tr>\n",
       "    <tr>\n",
       "      <th>3</th>\n",
       "      <td>Delhi Technological Univeesity</td>\n",
       "      <td>NaN</td>\n",
       "      <td>4.0</td>\n",
       "      <td>NaN</td>\n",
       "      <td>NaN</td>\n",
       "      <td>NaN</td>\n",
       "      <td>NaN</td>\n",
       "      <td>3.0</td>\n",
       "      <td>NaN</td>\n",
       "    </tr>\n",
       "    <tr>\n",
       "      <th>4</th>\n",
       "      <td>Jabalpur Engineering College</td>\n",
       "      <td>2.0</td>\n",
       "      <td>2.0</td>\n",
       "      <td>4.0</td>\n",
       "      <td>4.0</td>\n",
       "      <td>1.0</td>\n",
       "      <td>4.0</td>\n",
       "      <td>4.0</td>\n",
       "      <td>4.0</td>\n",
       "    </tr>\n",
       "  </tbody>\n",
       "</table>\n",
       "</div>"
      ],
      "text/plain": [
       "                                             College  \\\n",
       "0                                              JDIET   \n",
       "1  Indian Institute of Information Technology Des...   \n",
       "2                   Manipal Institute of technology    \n",
       "3                     Delhi Technological Univeesity   \n",
       "4                       Jabalpur Engineering College   \n",
       "\n",
       "   Flutter (skill out of 5)  Flask (skill out of 5)  \\\n",
       "0                       2.0                     4.0   \n",
       "1                       4.0                     1.0   \n",
       "2                       2.0                     2.0   \n",
       "3                       NaN                     4.0   \n",
       "4                       2.0                     2.0   \n",
       "\n",
       "   Firebase (skill out of 5)  GCP (skill out of 5)  AWS (skill out of 5)  \\\n",
       "0                        4.0                   1.0                   1.0   \n",
       "1                        1.0                   3.0                   1.0   \n",
       "2                        2.0                   1.0                   1.0   \n",
       "3                        NaN                   NaN                   NaN   \n",
       "4                        4.0                   4.0                   1.0   \n",
       "\n",
       "   Predictive Modelling (skill out of 5)  EDA (skill out of 5)  \\\n",
       "0                                    1.0                   1.0   \n",
       "1                                    4.0                   5.0   \n",
       "2                                    2.0                   2.0   \n",
       "3                                    NaN                   3.0   \n",
       "4                                    4.0                   4.0   \n",
       "\n",
       "   NLP (skill out of 5)  \n",
       "0                   4.0  \n",
       "1                   4.0  \n",
       "2                   2.0  \n",
       "3                   NaN  \n",
       "4                   4.0  "
      ]
     },
     "execution_count": 9,
     "metadata": {},
     "output_type": "execute_result"
    }
   ],
   "source": [
    "df.head()"
   ]
  },
  {
   "cell_type": "code",
   "execution_count": 10,
   "metadata": {},
   "outputs": [
    {
     "data": {
      "text/html": [
       "<div>\n",
       "<style scoped>\n",
       "    .dataframe tbody tr th:only-of-type {\n",
       "        vertical-align: middle;\n",
       "    }\n",
       "\n",
       "    .dataframe tbody tr th {\n",
       "        vertical-align: top;\n",
       "    }\n",
       "\n",
       "    .dataframe thead th {\n",
       "        text-align: right;\n",
       "    }\n",
       "</style>\n",
       "<table border=\"1\" class=\"dataframe\">\n",
       "  <thead>\n",
       "    <tr style=\"text-align: right;\">\n",
       "      <th></th>\n",
       "      <th>Flutter (skill out of 5)</th>\n",
       "      <th>Flask (skill out of 5)</th>\n",
       "      <th>Firebase (skill out of 5)</th>\n",
       "      <th>GCP (skill out of 5)</th>\n",
       "      <th>AWS (skill out of 5)</th>\n",
       "      <th>Predictive Modelling (skill out of 5)</th>\n",
       "      <th>EDA (skill out of 5)</th>\n",
       "      <th>NLP (skill out of 5)</th>\n",
       "    </tr>\n",
       "  </thead>\n",
       "  <tbody>\n",
       "    <tr>\n",
       "      <th>count</th>\n",
       "      <td>138.000000</td>\n",
       "      <td>136.000000</td>\n",
       "      <td>138.000000</td>\n",
       "      <td>132.000000</td>\n",
       "      <td>130.000000</td>\n",
       "      <td>144.000000</td>\n",
       "      <td>144.000000</td>\n",
       "      <td>135.000000</td>\n",
       "    </tr>\n",
       "    <tr>\n",
       "      <th>mean</th>\n",
       "      <td>1.768116</td>\n",
       "      <td>1.992647</td>\n",
       "      <td>1.992754</td>\n",
       "      <td>1.643939</td>\n",
       "      <td>1.884615</td>\n",
       "      <td>2.812500</td>\n",
       "      <td>2.993056</td>\n",
       "      <td>2.451852</td>\n",
       "    </tr>\n",
       "    <tr>\n",
       "      <th>std</th>\n",
       "      <td>1.082642</td>\n",
       "      <td>1.125439</td>\n",
       "      <td>1.117194</td>\n",
       "      <td>0.925735</td>\n",
       "      <td>1.008757</td>\n",
       "      <td>1.273554</td>\n",
       "      <td>1.366413</td>\n",
       "      <td>1.226076</td>\n",
       "    </tr>\n",
       "    <tr>\n",
       "      <th>min</th>\n",
       "      <td>1.000000</td>\n",
       "      <td>1.000000</td>\n",
       "      <td>1.000000</td>\n",
       "      <td>1.000000</td>\n",
       "      <td>1.000000</td>\n",
       "      <td>1.000000</td>\n",
       "      <td>1.000000</td>\n",
       "      <td>1.000000</td>\n",
       "    </tr>\n",
       "    <tr>\n",
       "      <th>25%</th>\n",
       "      <td>1.000000</td>\n",
       "      <td>1.000000</td>\n",
       "      <td>1.000000</td>\n",
       "      <td>1.000000</td>\n",
       "      <td>1.000000</td>\n",
       "      <td>2.000000</td>\n",
       "      <td>2.000000</td>\n",
       "      <td>1.000000</td>\n",
       "    </tr>\n",
       "    <tr>\n",
       "      <th>50%</th>\n",
       "      <td>1.000000</td>\n",
       "      <td>2.000000</td>\n",
       "      <td>2.000000</td>\n",
       "      <td>1.000000</td>\n",
       "      <td>2.000000</td>\n",
       "      <td>3.000000</td>\n",
       "      <td>3.000000</td>\n",
       "      <td>2.000000</td>\n",
       "    </tr>\n",
       "    <tr>\n",
       "      <th>75%</th>\n",
       "      <td>2.750000</td>\n",
       "      <td>3.000000</td>\n",
       "      <td>3.000000</td>\n",
       "      <td>2.000000</td>\n",
       "      <td>3.000000</td>\n",
       "      <td>4.000000</td>\n",
       "      <td>4.000000</td>\n",
       "      <td>3.000000</td>\n",
       "    </tr>\n",
       "    <tr>\n",
       "      <th>max</th>\n",
       "      <td>5.000000</td>\n",
       "      <td>5.000000</td>\n",
       "      <td>5.000000</td>\n",
       "      <td>5.000000</td>\n",
       "      <td>5.000000</td>\n",
       "      <td>5.000000</td>\n",
       "      <td>5.000000</td>\n",
       "      <td>5.000000</td>\n",
       "    </tr>\n",
       "  </tbody>\n",
       "</table>\n",
       "</div>"
      ],
      "text/plain": [
       "       Flutter (skill out of 5)  Flask (skill out of 5)  \\\n",
       "count                138.000000              136.000000   \n",
       "mean                   1.768116                1.992647   \n",
       "std                    1.082642                1.125439   \n",
       "min                    1.000000                1.000000   \n",
       "25%                    1.000000                1.000000   \n",
       "50%                    1.000000                2.000000   \n",
       "75%                    2.750000                3.000000   \n",
       "max                    5.000000                5.000000   \n",
       "\n",
       "       Firebase (skill out of 5)  GCP (skill out of 5)  AWS (skill out of 5)  \\\n",
       "count                 138.000000            132.000000            130.000000   \n",
       "mean                    1.992754              1.643939              1.884615   \n",
       "std                     1.117194              0.925735              1.008757   \n",
       "min                     1.000000              1.000000              1.000000   \n",
       "25%                     1.000000              1.000000              1.000000   \n",
       "50%                     2.000000              1.000000              2.000000   \n",
       "75%                     3.000000              2.000000              3.000000   \n",
       "max                     5.000000              5.000000              5.000000   \n",
       "\n",
       "       Predictive Modelling (skill out of 5)  EDA (skill out of 5)  \\\n",
       "count                             144.000000            144.000000   \n",
       "mean                                2.812500              2.993056   \n",
       "std                                 1.273554              1.366413   \n",
       "min                                 1.000000              1.000000   \n",
       "25%                                 2.000000              2.000000   \n",
       "50%                                 3.000000              3.000000   \n",
       "75%                                 4.000000              4.000000   \n",
       "max                                 5.000000              5.000000   \n",
       "\n",
       "       NLP (skill out of 5)  \n",
       "count            135.000000  \n",
       "mean               2.451852  \n",
       "std                1.226076  \n",
       "min                1.000000  \n",
       "25%                1.000000  \n",
       "50%                2.000000  \n",
       "75%                3.000000  \n",
       "max                5.000000  "
      ]
     },
     "execution_count": 10,
     "metadata": {},
     "output_type": "execute_result"
    }
   ],
   "source": [
    "df.describe()"
   ]
  },
  {
   "cell_type": "code",
   "execution_count": 11,
   "metadata": {},
   "outputs": [
    {
     "data": {
      "text/plain": [
       "Index(['College', 'Flutter (skill out of 5)', 'Flask (skill out of 5)',\n",
       "       'Firebase (skill out of 5)', 'GCP (skill out of 5)',\n",
       "       'AWS (skill out of 5)', 'Predictive Modelling (skill out of 5)',\n",
       "       'EDA (skill out of 5)', 'NLP (skill out of 5)'],\n",
       "      dtype='object')"
      ]
     },
     "execution_count": 11,
     "metadata": {},
     "output_type": "execute_result"
    }
   ],
   "source": [
    "df.columns"
   ]
  },
  {
   "cell_type": "code",
   "execution_count": 12,
   "metadata": {},
   "outputs": [
    {
     "data": {
      "text/plain": [
       "0                                                  JDIET\n",
       "1      Indian Institute of Information Technology Des...\n",
       "2                       Manipal Institute of technology \n",
       "3                         Delhi Technological Univeesity\n",
       "4                           Jabalpur Engineering College\n",
       "                             ...                        \n",
       "150          The LNM Institute of Information Technology\n",
       "151                pandit deendayal petroleum university\n",
       "152                                                  MEC\n",
       "153          Lal Bahadur Shastri Institute of Management\n",
       "154                          Bms institute of technology\n",
       "Name: College, Length: 155, dtype: object"
      ]
     },
     "execution_count": 12,
     "metadata": {},
     "output_type": "execute_result"
    }
   ],
   "source": [
    "df.College"
   ]
  },
  {
   "cell_type": "code",
   "execution_count": 13,
   "metadata": {},
   "outputs": [],
   "source": [
    "df1 = pd.factorize(df[\"College\"])"
   ]
  },
  {
   "cell_type": "code",
   "execution_count": 14,
   "metadata": {},
   "outputs": [
    {
     "data": {
      "text/plain": [
       "(array([  0,   1,   2,   3,   4,   5,   6,   7,   8,   9,  10,  10,  11,\n",
       "         12,  13,  12,  14,  15,  16,  17,  15,  18,  19,  20,  21,  22,\n",
       "         23,  24,  25,  26,  27,  28,  29,  30,  31,  32,  33,  34,  35,\n",
       "         36,  29,  37,  38,  39,  40,  41,  42,  43,  44,  45,  46,  47,\n",
       "         48,  49,  50,  19,  20,  51,  52,  53,  54,  17,  55,  56,  57,\n",
       "         58,  59,  60,  61,  62,  63,  64,  65,  66,  67,  68,  69,  70,\n",
       "         71,  72,  73,  74,  75,  28,  76,  77,  45,  78,  79,  80,  81,\n",
       "         17,  82,  83,  84,  85,  86,  87,  88,  89,  90,  91,  92,  93,\n",
       "         94,  95,  96,  97,  98,  99, 100, 101, 102,  97, 103, 104, 105,\n",
       "        106,  86,  90, 107, 108,  98, 109, 110, 111, 112, 113, 114, 115,\n",
       "        116, 117,  76, 118, 119, 120, 121,  98, 122, 123,  64, 123, 124,\n",
       "        125, 126, 127, 128, 129, 128, 130, 131, 132, 133, 134, 135],\n",
       "       dtype=int64),\n",
       " Index(['JDIET',\n",
       "        'Indian Institute of Information Technology Design and Manufacturing, Kurnool',\n",
       "        'Manipal Institute of technology ', 'Delhi Technological Univeesity',\n",
       "        'Jabalpur Engineering College',\n",
       "        'Muffakham Jah College Of Engineering and Technology',\n",
       "        'Govt. College of engineering and technology bikaner', 'GRIET',\n",
       "        'Indian Institute of Information Technology Design and Manufacturing Kurnool ',\n",
       "        'DR. DR. shyama Prasad MUKHERJEE UNIVERSITY ',\n",
       "        ...\n",
       "        'Indian Institute of information technology Bhopal',\n",
       "        'Vivekananda Education Society's Institute of Technology, Mumbai',\n",
       "        'Maharaja Surajmal Institute of Technology', 'VIT University, Vellore',\n",
       "        'Jaypee Institute Of Information Technology',\n",
       "        'The LNM Institute of Information Technology',\n",
       "        'pandit deendayal petroleum university', 'MEC',\n",
       "        'Lal Bahadur Shastri Institute of Management',\n",
       "        'Bms institute of technology'],\n",
       "       dtype='object', length=136))"
      ]
     },
     "execution_count": 14,
     "metadata": {},
     "output_type": "execute_result"
    }
   ],
   "source": [
    "df1"
   ]
  },
  {
   "cell_type": "code",
   "execution_count": 15,
   "metadata": {},
   "outputs": [
    {
     "name": "stdout",
     "output_type": "stream",
     "text": [
      "74 Gitam university, Vizag 2.0\n"
     ]
    }
   ],
   "source": [
    "for i in range(len(df.College)):\n",
    "    if df.College[i]==\"Gitam university, Vizag\":\n",
    "        print(i,df.College[i],df[\"NLP (skill out of 5)\"][i])"
   ]
  },
  {
   "cell_type": "code",
   "execution_count": 16,
   "metadata": {},
   "outputs": [
    {
     "data": {
      "text/plain": [
       "'Gitam university, Vizag'"
      ]
     },
     "execution_count": 16,
     "metadata": {},
     "output_type": "execute_result"
    }
   ],
   "source": [
    "df.College[74]"
   ]
  },
  {
   "cell_type": "code",
   "execution_count": 17,
   "metadata": {},
   "outputs": [
    {
     "data": {
      "text/plain": [
       "2.0"
      ]
     },
     "execution_count": 17,
     "metadata": {},
     "output_type": "execute_result"
    }
   ],
   "source": [
    "df[\"NLP (skill out of 5)\"][74]"
   ]
  },
  {
   "cell_type": "code",
   "execution_count": 18,
   "metadata": {},
   "outputs": [
    {
     "data": {
      "text/html": [
       "<div>\n",
       "<style scoped>\n",
       "    .dataframe tbody tr th:only-of-type {\n",
       "        vertical-align: middle;\n",
       "    }\n",
       "\n",
       "    .dataframe tbody tr th {\n",
       "        vertical-align: top;\n",
       "    }\n",
       "\n",
       "    .dataframe thead th {\n",
       "        text-align: right;\n",
       "    }\n",
       "</style>\n",
       "<table border=\"1\" class=\"dataframe\">\n",
       "  <thead>\n",
       "    <tr style=\"text-align: right;\">\n",
       "      <th></th>\n",
       "      <th>College</th>\n",
       "      <th>Flutter (skill out of 5)</th>\n",
       "      <th>Flask (skill out of 5)</th>\n",
       "      <th>Firebase (skill out of 5)</th>\n",
       "      <th>GCP (skill out of 5)</th>\n",
       "      <th>AWS (skill out of 5)</th>\n",
       "      <th>Predictive Modelling (skill out of 5)</th>\n",
       "      <th>EDA (skill out of 5)</th>\n",
       "      <th>NLP (skill out of 5)</th>\n",
       "    </tr>\n",
       "  </thead>\n",
       "  <tbody>\n",
       "    <tr>\n",
       "      <th>0</th>\n",
       "      <td>JDIET</td>\n",
       "      <td>2.0</td>\n",
       "      <td>4.0</td>\n",
       "      <td>4.0</td>\n",
       "      <td>1.0</td>\n",
       "      <td>1.0</td>\n",
       "      <td>1.0</td>\n",
       "      <td>1.0</td>\n",
       "      <td>4.0</td>\n",
       "    </tr>\n",
       "    <tr>\n",
       "      <th>1</th>\n",
       "      <td>Indian Institute of Information Technology Des...</td>\n",
       "      <td>4.0</td>\n",
       "      <td>1.0</td>\n",
       "      <td>1.0</td>\n",
       "      <td>3.0</td>\n",
       "      <td>1.0</td>\n",
       "      <td>4.0</td>\n",
       "      <td>5.0</td>\n",
       "      <td>4.0</td>\n",
       "    </tr>\n",
       "    <tr>\n",
       "      <th>2</th>\n",
       "      <td>Manipal Institute of technology</td>\n",
       "      <td>2.0</td>\n",
       "      <td>2.0</td>\n",
       "      <td>2.0</td>\n",
       "      <td>1.0</td>\n",
       "      <td>1.0</td>\n",
       "      <td>2.0</td>\n",
       "      <td>2.0</td>\n",
       "      <td>2.0</td>\n",
       "    </tr>\n",
       "    <tr>\n",
       "      <th>3</th>\n",
       "      <td>Delhi Technological Univeesity</td>\n",
       "      <td>NaN</td>\n",
       "      <td>4.0</td>\n",
       "      <td>NaN</td>\n",
       "      <td>NaN</td>\n",
       "      <td>NaN</td>\n",
       "      <td>NaN</td>\n",
       "      <td>3.0</td>\n",
       "      <td>NaN</td>\n",
       "    </tr>\n",
       "    <tr>\n",
       "      <th>4</th>\n",
       "      <td>Jabalpur Engineering College</td>\n",
       "      <td>2.0</td>\n",
       "      <td>2.0</td>\n",
       "      <td>4.0</td>\n",
       "      <td>4.0</td>\n",
       "      <td>1.0</td>\n",
       "      <td>4.0</td>\n",
       "      <td>4.0</td>\n",
       "      <td>4.0</td>\n",
       "    </tr>\n",
       "    <tr>\n",
       "      <th>...</th>\n",
       "      <td>...</td>\n",
       "      <td>...</td>\n",
       "      <td>...</td>\n",
       "      <td>...</td>\n",
       "      <td>...</td>\n",
       "      <td>...</td>\n",
       "      <td>...</td>\n",
       "      <td>...</td>\n",
       "      <td>...</td>\n",
       "    </tr>\n",
       "    <tr>\n",
       "      <th>70</th>\n",
       "      <td>MUFFAKHAM JAH college of engineering and techn...</td>\n",
       "      <td>3.0</td>\n",
       "      <td>3.0</td>\n",
       "      <td>3.0</td>\n",
       "      <td>3.0</td>\n",
       "      <td>3.0</td>\n",
       "      <td>3.0</td>\n",
       "      <td>3.0</td>\n",
       "      <td>3.0</td>\n",
       "    </tr>\n",
       "    <tr>\n",
       "      <th>71</th>\n",
       "      <td>Mahindra ecole centrale</td>\n",
       "      <td>3.0</td>\n",
       "      <td>2.0</td>\n",
       "      <td>2.0</td>\n",
       "      <td>3.0</td>\n",
       "      <td>4.0</td>\n",
       "      <td>5.0</td>\n",
       "      <td>5.0</td>\n",
       "      <td>4.0</td>\n",
       "    </tr>\n",
       "    <tr>\n",
       "      <th>72</th>\n",
       "      <td>Veer Surendra sai University of technology</td>\n",
       "      <td>1.0</td>\n",
       "      <td>1.0</td>\n",
       "      <td>2.0</td>\n",
       "      <td>1.0</td>\n",
       "      <td>2.0</td>\n",
       "      <td>2.0</td>\n",
       "      <td>2.0</td>\n",
       "      <td>NaN</td>\n",
       "    </tr>\n",
       "    <tr>\n",
       "      <th>73</th>\n",
       "      <td>The Northcap University</td>\n",
       "      <td>1.0</td>\n",
       "      <td>1.0</td>\n",
       "      <td>2.0</td>\n",
       "      <td>1.0</td>\n",
       "      <td>3.0</td>\n",
       "      <td>4.0</td>\n",
       "      <td>4.0</td>\n",
       "      <td>1.0</td>\n",
       "    </tr>\n",
       "    <tr>\n",
       "      <th>74</th>\n",
       "      <td>Gitam university, Vizag</td>\n",
       "      <td>1.0</td>\n",
       "      <td>1.0</td>\n",
       "      <td>1.0</td>\n",
       "      <td>1.0</td>\n",
       "      <td>3.0</td>\n",
       "      <td>3.0</td>\n",
       "      <td>4.0</td>\n",
       "      <td>2.0</td>\n",
       "    </tr>\n",
       "  </tbody>\n",
       "</table>\n",
       "<p>75 rows × 9 columns</p>\n",
       "</div>"
      ],
      "text/plain": [
       "                                              College  \\\n",
       "0                                               JDIET   \n",
       "1   Indian Institute of Information Technology Des...   \n",
       "2                    Manipal Institute of technology    \n",
       "3                      Delhi Technological Univeesity   \n",
       "4                        Jabalpur Engineering College   \n",
       "..                                                ...   \n",
       "70  MUFFAKHAM JAH college of engineering and techn...   \n",
       "71                            Mahindra ecole centrale   \n",
       "72         Veer Surendra sai University of technology   \n",
       "73                            The Northcap University   \n",
       "74                            Gitam university, Vizag   \n",
       "\n",
       "    Flutter (skill out of 5)  Flask (skill out of 5)  \\\n",
       "0                        2.0                     4.0   \n",
       "1                        4.0                     1.0   \n",
       "2                        2.0                     2.0   \n",
       "3                        NaN                     4.0   \n",
       "4                        2.0                     2.0   \n",
       "..                       ...                     ...   \n",
       "70                       3.0                     3.0   \n",
       "71                       3.0                     2.0   \n",
       "72                       1.0                     1.0   \n",
       "73                       1.0                     1.0   \n",
       "74                       1.0                     1.0   \n",
       "\n",
       "    Firebase (skill out of 5)  GCP (skill out of 5)  AWS (skill out of 5)  \\\n",
       "0                         4.0                   1.0                   1.0   \n",
       "1                         1.0                   3.0                   1.0   \n",
       "2                         2.0                   1.0                   1.0   \n",
       "3                         NaN                   NaN                   NaN   \n",
       "4                         4.0                   4.0                   1.0   \n",
       "..                        ...                   ...                   ...   \n",
       "70                        3.0                   3.0                   3.0   \n",
       "71                        2.0                   3.0                   4.0   \n",
       "72                        2.0                   1.0                   2.0   \n",
       "73                        2.0                   1.0                   3.0   \n",
       "74                        1.0                   1.0                   3.0   \n",
       "\n",
       "    Predictive Modelling (skill out of 5)  EDA (skill out of 5)  \\\n",
       "0                                     1.0                   1.0   \n",
       "1                                     4.0                   5.0   \n",
       "2                                     2.0                   2.0   \n",
       "3                                     NaN                   3.0   \n",
       "4                                     4.0                   4.0   \n",
       "..                                    ...                   ...   \n",
       "70                                    3.0                   3.0   \n",
       "71                                    5.0                   5.0   \n",
       "72                                    2.0                   2.0   \n",
       "73                                    4.0                   4.0   \n",
       "74                                    3.0                   4.0   \n",
       "\n",
       "    NLP (skill out of 5)  \n",
       "0                    4.0  \n",
       "1                    4.0  \n",
       "2                    2.0  \n",
       "3                    NaN  \n",
       "4                    4.0  \n",
       "..                   ...  \n",
       "70                   3.0  \n",
       "71                   4.0  \n",
       "72                   NaN  \n",
       "73                   1.0  \n",
       "74                   2.0  \n",
       "\n",
       "[75 rows x 9 columns]"
      ]
     },
     "execution_count": 18,
     "metadata": {},
     "output_type": "execute_result"
    }
   ],
   "source": [
    "df.head(75)"
   ]
  },
  {
   "cell_type": "code",
   "execution_count": 19,
   "metadata": {},
   "outputs": [
    {
     "data": {
      "text/plain": [
       "12.5"
      ]
     },
     "execution_count": 19,
     "metadata": {},
     "output_type": "execute_result"
    }
   ],
   "source": [
    "(2/16)*100"
   ]
  },
  {
   "cell_type": "code",
   "execution_count": 20,
   "metadata": {},
   "outputs": [
    {
     "data": {
      "text/plain": [
       "(155, 9)"
      ]
     },
     "execution_count": 20,
     "metadata": {},
     "output_type": "execute_result"
    }
   ],
   "source": [
    "df.shape"
   ]
  },
  {
   "cell_type": "code",
   "execution_count": 21,
   "metadata": {},
   "outputs": [
    {
     "data": {
      "text/plain": [
       "'JDIET'"
      ]
     },
     "execution_count": 21,
     "metadata": {},
     "output_type": "execute_result"
    }
   ],
   "source": [
    "df.loc[0][0]"
   ]
  },
  {
   "cell_type": "code",
   "execution_count": null,
   "metadata": {},
   "outputs": [],
   "source": []
  }
 ],
 "metadata": {
  "kernelspec": {
   "display_name": "Python 3",
   "language": "python",
   "name": "python3"
  },
  "language_info": {
   "codemirror_mode": {
    "name": "ipython",
    "version": 3
   },
   "file_extension": ".py",
   "mimetype": "text/x-python",
   "name": "python",
   "nbconvert_exporter": "python",
   "pygments_lexer": "ipython3",
   "version": "3.8.5"
  }
 },
 "nbformat": 4,
 "nbformat_minor": 4
}
